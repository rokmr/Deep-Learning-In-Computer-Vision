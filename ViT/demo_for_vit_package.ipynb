{
 "cells": [
  {
   "cell_type": "markdown",
   "metadata": {},
   "source": [
    "<div class=\"author-card\">\n",
    "    <a href=\"/rokmr\">\n",
    "        <img class=\"avatar avatar-user\" src=\"https://avatars.githubusercontent.com/u/104412006?v=4\" width=\"100\" title=\"Gravatar\">\n",
    "    </a>\n",
    "</div>\n",
    "\n",
    "[<code>rokmr</code>](https://github.com/rokmr)\n",
    "<span class=\"fullname\">Rohit Kumar</span>"
   ]
  },
  {
   "cell_type": "code",
   "execution_count": 3,
   "metadata": {},
   "outputs": [],
   "source": [
    "!pip install -q -U torchinfo\n",
    "from torchinfo import summary"
   ]
  },
  {
   "cell_type": "code",
   "execution_count": 1,
   "metadata": {},
   "outputs": [
    {
     "name": "stderr",
     "output_type": "stream",
     "text": [
      "C:\\Users\\hp\\AppData\\Roaming\\Python\\Python311\\site-packages\\tqdm\\auto.py:21: TqdmWarning: IProgress not found. Please update jupyter and ipywidgets. See https://ipywidgets.readthedocs.io/en/stable/user_install.html\n",
      "  from .autonotebook import tqdm as notebook_tqdm\n"
     ]
    }
   ],
   "source": [
    "from vit import modules"
   ]
  },
  {
   "cell_type": "markdown",
   "metadata": {},
   "source": [
    "# Make your own ViT"
   ]
  },
  {
   "cell_type": "code",
   "execution_count": 2,
   "metadata": {},
   "outputs": [],
   "source": [
    "MNIST_ViT = modules.ViT(img_size=28,\n",
    "                 in_channels=1,\n",
    "                 patch_size=7,\n",
    "                 num_transformer_layers=3,\n",
    "                 embedding_dim=49,    # patch**2 *  color channel -> 7 **2 *1 = 49\n",
    "                 mlp_size=196,\n",
    "                 num_heads=7,\n",
    "                 attn_dropout=0,\n",
    "                 mlp_dropout=0.1,\n",
    "                 embedding_dropout=0.1,\n",
    "                 num_classes=10)"
   ]
  },
  {
   "cell_type": "code",
   "execution_count": 4,
   "metadata": {},
   "outputs": [
    {
     "data": {
      "text/plain": [
       "============================================================================================================================================\n",
       "Layer (type (var_name))                                      Input Shape          Output Shape         Param #              Trainable\n",
       "============================================================================================================================================\n",
       "ViT (ViT)                                                    [32, 1, 28, 28]      [32, 10]             882                  True\n",
       "├─PatchEmbedding (patch_embedding)                           [32, 1, 28, 28]      [32, 16, 49]         --                   True\n",
       "│    └─Conv2d (patcher)                                      [32, 1, 28, 28]      [32, 49, 4, 4]       2,450                True\n",
       "│    └─Flatten (flatten)                                     [32, 49, 4, 4]       [32, 49, 16]         --                   --\n",
       "├─Dropout (embedding_dropout)                                [32, 17, 49]         [32, 17, 49]         --                   --\n",
       "├─Sequential (transformer_encoder)                           [32, 17, 49]         [32, 17, 49]         --                   True\n",
       "│    └─TransformerEncoderBlock (0)                           [32, 17, 49]         [32, 17, 49]         --                   True\n",
       "│    │    └─MultiheadSelfAttentionBlock (msa_block)          [32, 17, 49]         [32, 17, 49]         9,898                True\n",
       "│    │    └─MLPBlock (mlp_block)                             [32, 17, 49]         [32, 17, 49]         19,551               True\n",
       "│    └─TransformerEncoderBlock (1)                           [32, 17, 49]         [32, 17, 49]         --                   True\n",
       "│    │    └─MultiheadSelfAttentionBlock (msa_block)          [32, 17, 49]         [32, 17, 49]         9,898                True\n",
       "│    │    └─MLPBlock (mlp_block)                             [32, 17, 49]         [32, 17, 49]         19,551               True\n",
       "│    └─TransformerEncoderBlock (2)                           [32, 17, 49]         [32, 17, 49]         --                   True\n",
       "│    │    └─MultiheadSelfAttentionBlock (msa_block)          [32, 17, 49]         [32, 17, 49]         9,898                True\n",
       "│    │    └─MLPBlock (mlp_block)                             [32, 17, 49]         [32, 17, 49]         19,551               True\n",
       "├─ClassifierHead (classifier)                                [32, 49]             [32, 10]             --                   True\n",
       "│    └─Sequential (classifier)                               [32, 49]             [32, 10]             --                   True\n",
       "│    │    └─LayerNorm (0)                                    [32, 49]             [32, 49]             98                   True\n",
       "│    │    └─Linear (1)                                       [32, 49]             [32, 10]             500                  True\n",
       "============================================================================================================================================\n",
       "Total params: 92,277\n",
       "Trainable params: 92,277\n",
       "Non-trainable params: 0\n",
       "Total mult-adds (Units.MEGABYTES): 3.16\n",
       "============================================================================================================================================\n",
       "Input size (MB): 0.10\n",
       "Forward/backward pass size (MB): 4.69\n",
       "Params size (MB): 0.25\n",
       "Estimated Total Size (MB): 5.04\n",
       "============================================================================================================================================"
      ]
     },
     "execution_count": 4,
     "metadata": {},
     "output_type": "execute_result"
    }
   ],
   "source": [
    "summary(model=MNIST_ViT,\n",
    "        input_size=(32, 1, 28, 28),\n",
    "        col_names=[\"input_size\", \"output_size\", \"num_params\", \"trainable\"],\n",
    "        col_width=20,\n",
    "        row_settings=[\"var_names\"]\n",
    ")"
   ]
  },
  {
   "cell_type": "markdown",
   "metadata": {},
   "source": [
    "******\n",
    "Now train your personal ViT model with your own dataset.\n",
    "******\n"
   ]
  }
 ],
 "metadata": {
  "kernelspec": {
   "display_name": "Python 3",
   "language": "python",
   "name": "python3"
  },
  "language_info": {
   "codemirror_mode": {
    "name": "ipython",
    "version": 3
   },
   "file_extension": ".py",
   "mimetype": "text/x-python",
   "name": "python",
   "nbconvert_exporter": "python",
   "pygments_lexer": "ipython3",
   "version": "3.11.3"
  },
  "orig_nbformat": 4
 },
 "nbformat": 4,
 "nbformat_minor": 2
}
