{
  "cells": [
    {
      "cell_type": "code",
      "execution_count": 1,
      "metadata": {
        "id": "5MUZqkxli2iD"
      },
      "outputs": [],
      "source": [
        "!pip install -q -U  datasets"
      ]
    },
    {
      "cell_type": "code",
      "execution_count": 2,
      "metadata": {
        "id": "Lx_9zRYFhvtn"
      },
      "outputs": [],
      "source": [
        "!pip install -q -U torchinfo"
      ]
    },
    {
      "cell_type": "code",
      "execution_count": 20,
      "metadata": {
        "id": "GW8J4ZUEhKzb"
      },
      "outputs": [
        {
          "name": "stderr",
          "output_type": "stream",
          "text": [
            "C:\\Users\\hp\\AppData\\Roaming\\Python\\Python311\\site-packages\\tqdm\\auto.py:21: TqdmWarning: IProgress not found. Please update jupyter and ipywidgets. See https://ipywidgets.readthedocs.io/en/stable/user_install.html\n",
            "  from .autonotebook import tqdm as notebook_tqdm\n"
          ]
        }
      ],
      "source": [
        "import torch\n",
        "from torch import nn\n",
        "from torchinfo import summary\n",
        "import numpy as np\n",
        "from torch.utils.data import Dataset, DataLoader\n",
        "from torchvision import datasets\n",
        "from torchvision.transforms import ToTensor\n",
        "import matplotlib.pyplot as plt\n",
        "from tqdm.auto import tqdm\n",
        "from typing import List, Tuple, Dict"
      ]
    },
    {
      "cell_type": "markdown",
      "metadata": {
        "id": "9pHM_31bjrBb"
      },
      "source": [
        "# Model"
      ]
    },
    {
      "cell_type": "code",
      "execution_count": 4,
      "metadata": {
        "id": "6NJRH5qZguqz"
      },
      "outputs": [],
      "source": [
        "class PatchEmbedding(nn.Module):\n",
        "    \"\"\"Turns a 2D input image into a 1D sequence learnable embedding vector.\"\"\"\n",
        "    def __init__(self,\n",
        "                 in_channels:int=3,\n",
        "                 patch_size:int=16,\n",
        "                 embedding_dim:int=768):\n",
        "        super().__init__()\n",
        "\n",
        "        self.patcher = nn.Conv2d(in_channels=in_channels,\n",
        "                                 out_channels=embedding_dim,\n",
        "                                 kernel_size=patch_size,\n",
        "                                 stride=patch_size,\n",
        "                                 padding=0)\n",
        "\n",
        "        self.flatten = nn.Flatten(start_dim=2,\n",
        "                                  end_dim=3)\n",
        "\n",
        "    def forward(self, x):\n",
        "        image_resolution = x.shape[-1]\n",
        "        # assert image_resolution % patch_size == 0, f\"Input image size must be divisble by patch size, image shape: {image_resolution}, patch size: {patch_size}\"\n",
        "\n",
        "        x_patched = self.patcher(x)\n",
        "        x_flattened = self.flatten(x_patched)\n",
        "        return x_flattened.permute(0, 2, 1)"
      ]
    },
    {
      "cell_type": "code",
      "execution_count": 5,
      "metadata": {
        "id": "Io_Z5WyJhEOY"
      },
      "outputs": [],
      "source": [
        "class MultiheadSelfAttentionBlock(nn.Module):\n",
        "    \"\"\"Creates a MSA block \"\"\"\n",
        "    def __init__(self,\n",
        "                 embedding_dim:int=768,\n",
        "                 num_heads:int=12,\n",
        "                 attn_dropout:float=0): # according to Appendix B.1, dropout isn't used after the qkv-projections\n",
        "        super().__init__()\n",
        "\n",
        "        self.layer_norm = nn.LayerNorm(normalized_shape=embedding_dim)\n",
        "\n",
        "        self.multihead_attn = nn.MultiheadAttention(embed_dim=embedding_dim,\n",
        "                                                    num_heads=num_heads,\n",
        "                                                    dropout=attn_dropout,\n",
        "                                                    batch_first=True)\n",
        "\n",
        "    def forward(self, x):\n",
        "        x = self.layer_norm(x)\n",
        "        attn_output, _ = self.multihead_attn(query=x,\n",
        "                                             key=x,\n",
        "                                             value=x,\n",
        "                                             need_weights=False)\n",
        "        return attn_output"
      ]
    },
    {
      "cell_type": "code",
      "execution_count": 6,
      "metadata": {
        "id": "ItZ8su4hg5lB"
      },
      "outputs": [],
      "source": [
        "class MLPBlock(nn.Module):\n",
        "    \"\"\"Creates a MLP layer\"\"\"\n",
        "    def __init__(self,\n",
        "                 embedding_dim:int=768,\n",
        "                 mlp_size:int=3072,\n",
        "                 dropout:float=0.1):\n",
        "        super().__init__()\n",
        "\n",
        "        self.layer_norm = nn.LayerNorm(normalized_shape=embedding_dim)\n",
        "\n",
        "        self.mlp = nn.Sequential(\n",
        "            nn.Linear(in_features=embedding_dim,\n",
        "                      out_features=mlp_size),\n",
        "            nn.GELU(),\n",
        "            nn.Dropout(p=dropout),\n",
        "            nn.Linear(in_features=mlp_size,\n",
        "                      out_features=embedding_dim),\n",
        "            nn.Dropout(p=dropout)\n",
        "        )\n",
        "\n",
        "    def forward(self, x):\n",
        "        x = self.layer_norm(x)\n",
        "        x = self.mlp(x)\n",
        "        return x"
      ]
    },
    {
      "cell_type": "code",
      "execution_count": 7,
      "metadata": {
        "id": "CnHfwPE0hWHb"
      },
      "outputs": [],
      "source": [
        "class TransformerEncoderBlock(nn.Module):\n",
        "    \"\"\"Creates a Transformer Encoder block.\"\"\"\n",
        "    def __init__(self,\n",
        "                 embedding_dim:int=768,\n",
        "                 num_heads:int=12,\n",
        "                 mlp_size:int=3072,\n",
        "                 mlp_dropout:float=0.1,\n",
        "                 attn_dropout:float=0):\n",
        "        super().__init__()\n",
        "\n",
        "        self.msa_block = MultiheadSelfAttentionBlock(embedding_dim=embedding_dim,\n",
        "                                                     num_heads=num_heads,\n",
        "                                                     attn_dropout=attn_dropout)\n",
        "\n",
        "        self.mlp_block =  MLPBlock(embedding_dim=embedding_dim,\n",
        "                                   mlp_size=mlp_size,\n",
        "                                   dropout=mlp_dropout)\n",
        "\n",
        "    def forward(self, x):\n",
        "        x =  self.msa_block(x) + x      #Residual Connection\n",
        "        x = self.mlp_block(x) + x       #Residual Connection\n",
        "        return x"
      ]
    },
    {
      "cell_type": "code",
      "execution_count": 8,
      "metadata": {
        "id": "bF-ALW-kiCjc"
      },
      "outputs": [],
      "source": [
        "class ClassifierHead(nn.Module):\n",
        "  \"\"\"Creates a Classifier ViT.\"\"\"\n",
        "  def __init__(self,\n",
        "               embedding_dim: int= 768,\n",
        "               num_classes:int = 1000):\n",
        "    super().__init__()\n",
        "    self.classifier = nn.Sequential(nn.LayerNorm(normalized_shape=embedding_dim),\n",
        "                                    nn.Linear(in_features=embedding_dim,\n",
        "                                              out_features=num_classes))\n",
        "\n",
        "  def forward(self, x):\n",
        "    x = self.classifier(x)\n",
        "    return x"
      ]
    },
    {
      "cell_type": "code",
      "execution_count": 9,
      "metadata": {
        "id": "4GTsi7WMiFFP"
      },
      "outputs": [],
      "source": [
        "class ViT(nn.Module):\n",
        "    \"\"\"Creates a Vision Transformer architecture with ViT-Base hyperparameters by default.\"\"\"\n",
        "    def __init__(self,\n",
        "                 img_size:int=224,\n",
        "                 in_channels:int=3,\n",
        "                 patch_size:int=16,\n",
        "                 num_transformer_layers:int=12,\n",
        "                 embedding_dim:int=768,\n",
        "                 mlp_size:int=3072,\n",
        "                 num_heads:int=12,\n",
        "                 attn_dropout:float=0,\n",
        "                 mlp_dropout:float=0.1,\n",
        "                 embedding_dropout:float=0.1,\n",
        "                 num_classes:int=1000):\n",
        "        super().__init__()\n",
        "\n",
        "        assert img_size % patch_size == 0, f\"Image size must be divisible by patch size, image size: {img_size}, patch size: {patch_size}.\"\n",
        "\n",
        "        self.num_patches = (img_size * img_size) // patch_size**2\n",
        "\n",
        "        self.class_embedding = nn.Parameter(data=torch.randn(1, 1, embedding_dim),\n",
        "                                            requires_grad=True)\n",
        "\n",
        "        self.position_embedding = nn.Parameter(data=torch.randn(1, self.num_patches+1, embedding_dim),\n",
        "                                               requires_grad=True)\n",
        "\n",
        "        self.embedding_dropout = nn.Dropout(p=embedding_dropout)\n",
        "        self.patch_embedding = PatchEmbedding(in_channels=in_channels,\n",
        "                                              patch_size=patch_size,\n",
        "                                              embedding_dim=embedding_dim)\n",
        "        # Stack 12 (num_transformer_layers) Transformer Encoder blocks\n",
        "        self.transformer_encoder = nn.Sequential(*[TransformerEncoderBlock(embedding_dim=embedding_dim,\n",
        "                                                                            num_heads=num_heads,\n",
        "                                                                            mlp_size=mlp_size,\n",
        "                                                                            mlp_dropout=mlp_dropout) for _ in range(num_transformer_layers)])\n",
        "\n",
        "        self.classifier = ClassifierHead(embedding_dim=embedding_dim,\n",
        "                                         num_classes=num_classes)\n",
        "\n",
        "    def forward(self, x):\n",
        "\n",
        "        batch_size = x.shape[0]\n",
        "        class_token = self.class_embedding.expand(batch_size, -1, -1) # creates copies of the class embedding batch_size times along 0th dim keeping first and second same\n",
        "\n",
        "        x = self.patch_embedding(x)\n",
        "        x = torch.cat((class_token, x), dim=1)\n",
        "        x = self.position_embedding + x\n",
        "        x = self.embedding_dropout(x)\n",
        "\n",
        "        x = self.transformer_encoder(x)\n",
        "\n",
        "        x = self.classifier(x[:, 0]) # Keeping all batch and taking the first element of x from 197\n",
        "        return x"
      ]
    },
    {
      "cell_type": "code",
      "execution_count": 10,
      "metadata": {
        "id": "a7ALPpPfie9D"
      },
      "outputs": [],
      "source": [
        "MNIST_ViT = ViT(img_size=28,\n",
        "                 in_channels=1,\n",
        "                 patch_size=7,\n",
        "                 num_transformer_layers=3,\n",
        "                 embedding_dim=49,    # patch**2 *  color channel -> 7 **2 *1 = 49\n",
        "                 mlp_size=196,\n",
        "                 num_heads=7,\n",
        "                 attn_dropout=0,\n",
        "                 mlp_dropout=0.1,\n",
        "                 embedding_dropout=0.1,\n",
        "                 num_classes=10)"
      ]
    },
    {
      "cell_type": "code",
      "execution_count": 11,
      "metadata": {
        "colab": {
          "base_uri": "https://localhost:8080/"
        },
        "id": "iTNWZfw9inVy",
        "outputId": "5f3d55e2-1ea7-4ac3-f516-495b1c16b76b"
      },
      "outputs": [
        {
          "data": {
            "text/plain": [
              "============================================================================================================================================\n",
              "Layer (type (var_name))                                      Input Shape          Output Shape         Param #              Trainable\n",
              "============================================================================================================================================\n",
              "ViT (ViT)                                                    [32, 1, 28, 28]      [32, 10]             882                  True\n",
              "├─PatchEmbedding (patch_embedding)                           [32, 1, 28, 28]      [32, 16, 49]         --                   True\n",
              "│    └─Conv2d (patcher)                                      [32, 1, 28, 28]      [32, 49, 4, 4]       2,450                True\n",
              "│    └─Flatten (flatten)                                     [32, 49, 4, 4]       [32, 49, 16]         --                   --\n",
              "├─Dropout (embedding_dropout)                                [32, 17, 49]         [32, 17, 49]         --                   --\n",
              "├─Sequential (transformer_encoder)                           [32, 17, 49]         [32, 17, 49]         --                   True\n",
              "│    └─TransformerEncoderBlock (0)                           [32, 17, 49]         [32, 17, 49]         --                   True\n",
              "│    │    └─MultiheadSelfAttentionBlock (msa_block)          [32, 17, 49]         [32, 17, 49]         9,898                True\n",
              "│    │    └─MLPBlock (mlp_block)                             [32, 17, 49]         [32, 17, 49]         19,551               True\n",
              "│    └─TransformerEncoderBlock (1)                           [32, 17, 49]         [32, 17, 49]         --                   True\n",
              "│    │    └─MultiheadSelfAttentionBlock (msa_block)          [32, 17, 49]         [32, 17, 49]         9,898                True\n",
              "│    │    └─MLPBlock (mlp_block)                             [32, 17, 49]         [32, 17, 49]         19,551               True\n",
              "│    └─TransformerEncoderBlock (2)                           [32, 17, 49]         [32, 17, 49]         --                   True\n",
              "│    │    └─MultiheadSelfAttentionBlock (msa_block)          [32, 17, 49]         [32, 17, 49]         9,898                True\n",
              "│    │    └─MLPBlock (mlp_block)                             [32, 17, 49]         [32, 17, 49]         19,551               True\n",
              "├─ClassifierHead (classifier)                                [32, 49]             [32, 10]             --                   True\n",
              "│    └─Sequential (classifier)                               [32, 49]             [32, 10]             --                   True\n",
              "│    │    └─LayerNorm (0)                                    [32, 49]             [32, 49]             98                   True\n",
              "│    │    └─Linear (1)                                       [32, 49]             [32, 10]             500                  True\n",
              "============================================================================================================================================\n",
              "Total params: 92,277\n",
              "Trainable params: 92,277\n",
              "Non-trainable params: 0\n",
              "Total mult-adds (Units.MEGABYTES): 3.16\n",
              "============================================================================================================================================\n",
              "Input size (MB): 0.10\n",
              "Forward/backward pass size (MB): 4.69\n",
              "Params size (MB): 0.25\n",
              "Estimated Total Size (MB): 5.04\n",
              "============================================================================================================================================"
            ]
          },
          "execution_count": 11,
          "metadata": {},
          "output_type": "execute_result"
        }
      ],
      "source": [
        "summary(model=MNIST_ViT,\n",
        "        input_size=(32, 1, 28, 28),\n",
        "        col_names=[\"input_size\", \"output_size\", \"num_params\", \"trainable\"],\n",
        "        col_width=20,\n",
        "        row_settings=[\"var_names\"]\n",
        ")"
      ]
    },
    {
      "cell_type": "markdown",
      "metadata": {
        "id": "ZzLx4NHfitLl"
      },
      "source": [
        "# Data"
      ]
    },
    {
      "cell_type": "code",
      "execution_count": 12,
      "metadata": {
        "id": "n2Dcp31rizif"
      },
      "outputs": [
        {
          "name": "stdout",
          "output_type": "stream",
          "text": [
            "Downloading http://yann.lecun.com/exdb/mnist/train-images-idx3-ubyte.gz\n",
            "Downloading http://yann.lecun.com/exdb/mnist/train-images-idx3-ubyte.gz to data\\MNIST\\raw\\train-images-idx3-ubyte.gz\n"
          ]
        },
        {
          "name": "stderr",
          "output_type": "stream",
          "text": [
            " 13%|█▎        | 1310720/9912422 [00:00<00:02, 3663603.46it/s]"
          ]
        },
        {
          "name": "stderr",
          "output_type": "stream",
          "text": [
            "100%|██████████| 9912422/9912422 [00:02<00:00, 4622949.59it/s]\n"
          ]
        },
        {
          "name": "stdout",
          "output_type": "stream",
          "text": [
            "Extracting data\\MNIST\\raw\\train-images-idx3-ubyte.gz to data\\MNIST\\raw\n",
            "\n",
            "Downloading http://yann.lecun.com/exdb/mnist/train-labels-idx1-ubyte.gz\n",
            "Downloading http://yann.lecun.com/exdb/mnist/train-labels-idx1-ubyte.gz to data\\MNIST\\raw\\train-labels-idx1-ubyte.gz\n"
          ]
        },
        {
          "name": "stderr",
          "output_type": "stream",
          "text": [
            "100%|██████████| 28881/28881 [00:00<00:00, 671711.02it/s]\n"
          ]
        },
        {
          "name": "stdout",
          "output_type": "stream",
          "text": [
            "Extracting data\\MNIST\\raw\\train-labels-idx1-ubyte.gz to data\\MNIST\\raw\n",
            "\n",
            "Downloading http://yann.lecun.com/exdb/mnist/t10k-images-idx3-ubyte.gz\n",
            "Downloading http://yann.lecun.com/exdb/mnist/t10k-images-idx3-ubyte.gz to data\\MNIST\\raw\\t10k-images-idx3-ubyte.gz\n"
          ]
        },
        {
          "name": "stderr",
          "output_type": "stream",
          "text": [
            "100%|██████████| 1648877/1648877 [00:00<00:00, 3480275.14it/s]\n"
          ]
        },
        {
          "name": "stdout",
          "output_type": "stream",
          "text": [
            "Extracting data\\MNIST\\raw\\t10k-images-idx3-ubyte.gz to data\\MNIST\\raw\n",
            "\n",
            "Downloading http://yann.lecun.com/exdb/mnist/t10k-labels-idx1-ubyte.gz\n",
            "Downloading http://yann.lecun.com/exdb/mnist/t10k-labels-idx1-ubyte.gz to data\\MNIST\\raw\\t10k-labels-idx1-ubyte.gz\n"
          ]
        },
        {
          "name": "stderr",
          "output_type": "stream",
          "text": [
            "100%|██████████| 4542/4542 [00:00<00:00, 4540164.15it/s]\n"
          ]
        },
        {
          "name": "stdout",
          "output_type": "stream",
          "text": [
            "Extracting data\\MNIST\\raw\\t10k-labels-idx1-ubyte.gz to data\\MNIST\\raw\n",
            "\n"
          ]
        }
      ],
      "source": [
        "training_data = datasets.MNIST(\n",
        "    root=\"data\",\n",
        "    train=True,\n",
        "    download=True,\n",
        "    transform=ToTensor()\n",
        ")\n",
        "\n",
        "test_data = datasets.MNIST(\n",
        "    root=\"data\",\n",
        "    train=False,\n",
        "    download=True,\n",
        "    transform=ToTensor()\n",
        ")"
      ]
    },
    {
      "cell_type": "code",
      "execution_count": 13,
      "metadata": {},
      "outputs": [
        {
          "data": {
            "image/png": "[encoded data removed]",
            "text/plain": [
              "<Figure size 800x800 with 9 Axes>"
            ]
          },
          "metadata": {},
          "output_type": "display_data"
        }
      ],
      "source": [
        "figure = plt.figure(figsize=(8, 8))\n",
        "cols, rows = 3, 3\n",
        "for i in range(1, cols * rows + 1):\n",
        "    sample_idx = torch.randint(len(training_data), size=(1,)).item()\n",
        "    img, label = training_data[sample_idx]\n",
        "    figure.add_subplot(rows, cols, i)\n",
        "    plt.title(label)\n",
        "    plt.axis(\"off\")\n",
        "    plt.imshow(img.squeeze(), cmap=\"gray\")\n",
        "plt.show()"
      ]
    },
    {
      "cell_type": "code",
      "execution_count": 14,
      "metadata": {},
      "outputs": [
        {
          "data": {
            "text/plain": [
              "torch.Size([1, 28, 28])"
            ]
          },
          "execution_count": 14,
          "metadata": {},
          "output_type": "execute_result"
        }
      ],
      "source": [
        "img.shape\n"
      ]
    },
    {
      "cell_type": "code",
      "execution_count": 15,
      "metadata": {},
      "outputs": [],
      "source": [
        "train_dataloader = DataLoader(training_data, batch_size=64, shuffle=True)\n",
        "test_dataloader = DataLoader(test_data, batch_size=64, shuffle=True)"
      ]
    },
    {
      "cell_type": "code",
      "execution_count": 16,
      "metadata": {},
      "outputs": [
        {
          "name": "stdout",
          "output_type": "stream",
          "text": [
            "Feature batch shape: torch.Size([64, 1, 28, 28])\n",
            "Labels batch shape: torch.Size([64])\n"
          ]
        },
        {
          "data": {
            "image/png": "[encoded data removed]",
            "text/plain": [
              "<Figure size 640x480 with 1 Axes>"
            ]
          },
          "metadata": {},
          "output_type": "display_data"
        },
        {
          "name": "stdout",
          "output_type": "stream",
          "text": [
            "Label: 5\n"
          ]
        }
      ],
      "source": [
        "# Display image and label.\n",
        "train_features, train_labels = next(iter(train_dataloader))\n",
        "print(f\"Feature batch shape: {train_features.size()}\")\n",
        "print(f\"Labels batch shape: {train_labels.size()}\")\n",
        "img = train_features[0].squeeze()\n",
        "label = train_labels[0]\n",
        "plt.imshow(img, cmap=\"gray\")\n",
        "plt.show()\n",
        "print(f\"Label: {label}\")"
      ]
    },
    {
      "cell_type": "code",
      "execution_count": 17,
      "metadata": {},
      "outputs": [
        {
          "data": {
            "text/plain": [
              "torch.Size([1, 28, 28])"
            ]
          },
          "execution_count": 17,
          "metadata": {},
          "output_type": "execute_result"
        }
      ],
      "source": [
        "train_features[0].shape"
      ]
    },
    {
      "cell_type": "markdown",
      "metadata": {},
      "source": [
        "# Training"
      ]
    },
    {
      "cell_type": "code",
      "execution_count": 18,
      "metadata": {},
      "outputs": [],
      "source": [
        "device = torch.device(\"cuda\" if torch.cuda.is_available() else \"cpu\")   "
      ]
    },
    {
      "cell_type": "code",
      "execution_count": 21,
      "metadata": {},
      "outputs": [],
      "source": [
        "def train(model: torch.nn.Module, \n",
        "          train_dataloader: torch.utils.data.DataLoader, \n",
        "          test_dataloader: torch.utils.data.DataLoader, \n",
        "          optimizer: torch.optim.Optimizer,\n",
        "          loss_fn: torch.nn.Module,\n",
        "          epochs: int,\n",
        "          device: torch.device) -> Dict[str, List]:\n",
        "    \n",
        "\n",
        "    results = {\"train_loss\": [],\n",
        "               \"train_acc\": [],\n",
        "               \"test_loss\": [],\n",
        "               \"test_acc\": []\n",
        "    }\n",
        "    model.to(device)\n",
        "\n",
        "    # Train\n",
        "    for epoch in tqdm(range(epochs)):\n",
        "        model.train()\n",
        "        train_loss, train_acc = 0, 0\n",
        "        for batch, (X, y) in enumerate(train_dataloader):\n",
        "            X, y = X.to(device), y.to(device)\n",
        "            y_pred = model(X)\n",
        "            loss = loss_fn(y_pred, y)\n",
        "            train_loss += loss.item() \n",
        "            optimizer.zero_grad()\n",
        "            loss.backward()\n",
        "            optimizer.step()\n",
        "            y_pred_class = torch.argmax(torch.softmax(y_pred, dim=1), dim=1)\n",
        "            train_acc += (y_pred_class == y).sum().item()/len(y_pred)\n",
        "        train_loss = train_loss / len(train_dataloader)\n",
        "        train_acc = train_acc / len(train_dataloader)\n",
        "        \n",
        "        # Test\n",
        "        model.eval() \n",
        "        test_loss, test_acc = 0, 0\n",
        "        with torch.inference_mode():\n",
        "            for batch, (X, y) in enumerate(test_dataloader):\n",
        "                X, y = X.to(device), y.to(device)\n",
        "                test_pred_logits = model(X)\n",
        "                loss = loss_fn(test_pred_logits, y)\n",
        "                test_loss += loss.item()\n",
        "                test_pred_labels = test_pred_logits.argmax(dim=1)\n",
        "                test_acc += ((test_pred_labels == y).sum().item()/len(test_pred_labels))\n",
        "        test_loss = test_loss / len(test_dataloader)\n",
        "        test_acc = test_acc / len(test_dataloader)\n",
        "        print(\n",
        "          f\"Epoch: {epoch+1} | \"\n",
        "          f\"train_loss: {train_loss:.4f} | \"\n",
        "          f\"train_acc: {train_acc:.4f} | \"\n",
        "          f\"test_loss: {test_loss:.4f} | \"\n",
        "          f\"test_acc: {test_acc:.4f}\"\n",
        "        )\n",
        "\n",
        "        # Update results dictionary\n",
        "        results[\"train_loss\"].append(train_loss)\n",
        "        results[\"train_acc\"].append(train_acc)\n",
        "        results[\"test_loss\"].append(test_loss)\n",
        "        results[\"test_acc\"].append(test_acc)\n",
        "\n",
        "    return results\n"
      ]
    },
    {
      "cell_type": "code",
      "execution_count": 22,
      "metadata": {},
      "outputs": [
        {
          "name": "stderr",
          "output_type": "stream",
          "text": [
            "  0%|          | 0/10 [00:00<?, ?it/s]"
          ]
        }
      ],
      "source": [
        "optimizer = torch.optim.Adam(params=MNIST_ViT.parameters(),\n",
        "                             lr=3e-2, \n",
        "                             betas=(0.9, 0.999), \n",
        "                             weight_decay=0.3) \n",
        "\n",
        "loss_fn = torch.nn.CrossEntropyLoss()\n",
        "\n",
        "\n",
        "results = train(model=MNIST_ViT,\n",
        "                       train_dataloader=train_dataloader,\n",
        "                       test_dataloader=test_dataloader,\n",
        "                       optimizer=optimizer,\n",
        "                       loss_fn=loss_fn,\n",
        "                       epochs=10,\n",
        "                       device=device)"
      ]
    },
    {
      "cell_type": "code",
      "execution_count": null,
      "metadata": {},
      "outputs": [],
      "source": []
    },
    {
      "cell_type": "code",
      "execution_count": null,
      "metadata": {},
      "outputs": [],
      "source": []
    },
    {
      "cell_type": "code",
      "execution_count": null,
      "metadata": {},
      "outputs": [],
      "source": []
    },
    {
      "cell_type": "code",
      "execution_count": null,
      "metadata": {},
      "outputs": [],
      "source": []
    }
  ],
  "metadata": {
    "accelerator": "GPU",
    "colab": {
      "gpuType": "T4",
      "provenance": []
    },
    "kernelspec": {
      "display_name": "Python 3",
      "name": "python3"
    },
    "language_info": {
      "codemirror_mode": {
        "name": "ipython",
        "version": 3
      },
      "file_extension": ".py",
      "mimetype": "text/x-python",
      "name": "python",
      "nbconvert_exporter": "python",
      "pygments_lexer": "ipython3",
      "version": "3.11.3"
    }
  },
  "nbformat": 4,
  "nbformat_minor": 0
}
