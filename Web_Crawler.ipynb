{
  "nbformat": 4,
  "nbformat_minor": 0,
  "metadata": {
    "colab": {
      "provenance": [],
      "authorship_tag": "ABX9TyPP2sKLyfYcNaEYkZwUTXVV",
      "include_colab_link": true
    },
    "kernelspec": {
      "name": "python3",
      "display_name": "Python 3"
    },
    "language_info": {
      "name": "python"
    }
  },
  "cells": [
    {
      "cell_type": "markdown",
      "metadata": {
        "id": "view-in-github",
        "colab_type": "text"
      },
      "source": [
        "<a href=\"https://colab.research.google.com/github/rokmr/Deep-Learning-In-Computer-Vision/blob/main/Web_Crawler.ipynb\" target=\"_parent\"><img src=\"https://colab.research.google.com/assets/colab-badge.svg\" alt=\"Open In Colab\"/></a>"
      ]
    },
    {
      "cell_type": "markdown",
      "source": [
        "# Method : 01"
      ],
      "metadata": {
        "id": "aJH86zCDQ5Hs"
      }
    },
    {
      "cell_type": "markdown",
      "source": [
        "<img src=\"\">"
      ],
      "metadata": {
        "id": "hu-mEdtJRcyd"
      }
    },
    {
      "cell_type": "code",
      "execution_count": null,
      "metadata": {
        "id": "C2pW8CndLXxF"
      },
      "outputs": [],
      "source": [
        "# Importing necessary library\n",
        "from bs4 import *\n",
        "import requests as req\n",
        "import os"
      ]
    },
    {
      "cell_type": "code",
      "source": [
        "rq = req.get(\"url\")\n",
        "soup = BeautifulSoup(rq.txt, \"html.parser\")\n",
        "\n",
        "links = []\n",
        "x = soup.select('img [src^=\"images links regex\"]')\n",
        "\n",
        "for img in x:\n",
        "  links.append(img[src])"
      ],
      "metadata": {
        "id": "loRCJ5a3MmUe"
      },
      "execution_count": null,
      "outputs": []
    },
    {
      "cell_type": "code",
      "source": [
        "os.mkdir(\"Image_Folder\")\n",
        "\n",
        "for i, image_link in enumerate(links)\n",
        "  image_data = req.get(image_link).content\n",
        "\n",
        "  with open(\"content/Image_Folder+str(i+1)+\"+\".jpg\",'wb+') as f:\n",
        "    f.write(image_data)\n",
        "\n",
        "f.close()"
      ],
      "metadata": {
        "id": "n8G5YA5QPNNA"
      },
      "execution_count": null,
      "outputs": []
    },
    {
      "cell_type": "markdown",
      "source": [
        "# Method : 02"
      ],
      "metadata": {
        "id": "ugT8uoiWQ9F2"
      }
    },
    {
      "cell_type": "markdown",
      "source": [
        "[Code With Harry](https://www.youtube.com/watch?v=4tAp9Lu0eDI&ab_channel=CodeWithHarry)"
      ],
      "metadata": {
        "id": "MXMxDRULW6Cf"
      }
    },
    {
      "cell_type": "code",
      "source": [],
      "metadata": {
        "id": "tWKLw7aMW5nQ"
      },
      "execution_count": null,
      "outputs": []
    },
    {
      "cell_type": "code",
      "source": [],
      "metadata": {
        "id": "9sqweilnQ_c3"
      },
      "execution_count": null,
      "outputs": []
    }
  ]
}