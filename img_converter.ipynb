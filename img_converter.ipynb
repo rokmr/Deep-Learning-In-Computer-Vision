{
 "cells": [
  {
   "cell_type": "code",
   "execution_count": 2,
   "metadata": {},
   "outputs": [],
   "source": [
    "import os\n",
    "from PIL import Image"
   ]
  },
  {
   "cell_type": "code",
   "execution_count": 7,
   "metadata": {},
   "outputs": [
    {
     "name": "stdout",
     "output_type": "stream",
     "text": [
      "Converted fwd_viz.jpeg to PNG.\n",
      "Converted rev_viz.jpeg to PNG.\n"
     ]
    }
   ],
   "source": [
    "def convert_to_png(input_folder, output_folder):\n",
    "    # Create the output folder if it doesn't exist\n",
    "    if not os.path.exists(output_folder):\n",
    "        os.makedirs(output_folder)\n",
    "\n",
    "    # Loop through all files in the input folder\n",
    "    for filename in os.listdir(input_folder):\n",
    "        filepath = os.path.join(input_folder, filename)\n",
    "\n",
    "        # Check if the file is an image (you can add more image extensions if needed)\n",
    "        if filename.lower().endswith(('.jpg', '.jpeg', '.bmp', '.gif', '.tiff', '.webp')):\n",
    "            # Open the image and convert it to PNG format\n",
    "            try:\n",
    "                img = Image.open(filepath)\n",
    "                output_filepath = os.path.join(output_folder, os.path.splitext(filename)[0] + \".png\")\n",
    "                img.save(output_filepath)\n",
    "                print(f\"Converted {filename} to PNG.\")\n",
    "            except Exception as e:\n",
    "                print(f\"Error converting {filename}: {e}\")\n",
    "\n",
    "if __name__ == \"__main__\":\n",
    "    input_folder = \"Generative_Models\\colabImages\"\n",
    "    output_folder = \"Generative_Models\\colabImages2\"\n",
    "    convert_to_png(input_folder, output_folder)\n"
   ]
  }
 ],
 "metadata": {
  "kernelspec": {
   "display_name": "Python 3",
   "language": "python",
   "name": "python3"
  },
  "language_info": {
   "codemirror_mode": {
    "name": "ipython",
    "version": 3
   },
   "file_extension": ".py",
   "mimetype": "text/x-python",
   "name": "python",
   "nbconvert_exporter": "python",
   "pygments_lexer": "ipython3",
   "version": "3.11.3"
  },
  "orig_nbformat": 4
 },
 "nbformat": 4,
 "nbformat_minor": 2
}
