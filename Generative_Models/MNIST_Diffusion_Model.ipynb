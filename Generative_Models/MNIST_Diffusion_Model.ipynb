{
 "cells": [
  {
   "cell_type": "markdown",
   "metadata": {},
   "source": [
    "# Diffusion Model \n"
   ]
  },
  {
   "cell_type": "code",
   "execution_count": 2,
   "metadata": {},
   "outputs": [],
   "source": [
    "from typing import Dict, Tuple\n",
    "from tqdm import tqdm\n",
    "\n",
    "import torch\n",
    "import torch.nn as nn\n",
    "from torch.utils.data import DataLoader\n",
    "\n",
    "from torchvision.datasets import MNIST\n",
    "from torchvision import transforms\n",
    "from torchvision.utils import save_image, make_grid"
   ]
  },
  {
   "cell_type": "code",
   "execution_count": null,
   "metadata": {},
   "outputs": [],
   "source": [
    "# Device Agnostic Code\n",
    "device = 'cuda' if torch.cuda.is_available() else 'cpu'\n",
    "device"
   ]
  },
  {
   "cell_type": "code",
   "execution_count": 4,
   "metadata": {},
   "outputs": [],
   "source": [
    "def ddpm_schedules(beta1: float, beta2: float, T: int) -> Dict[str, torch.Tensor]:\n",
    "    \"\"\"\n",
    "    Returns pre-computed schedules for DDPM sampling, training process.\n",
    "    \"\"\"\n",
    "    assert beta1 < beta2 < 1.0, \"beta1 and beta2 must be in (0, 1)\"\n",
    "    \n",
    "    #BETA \n",
    "    beta_t = (beta2 - beta1) * torch.arange(0, T + 1, dtype=torch.float32) / T + beta1  # linear beta scheduler\n",
    "    sqrt_beta_t = torch.sqrt(beta_t)\n",
    "    \n",
    "    alpha_t = 1 - beta_t\n",
    "    \n",
    "    log_alpha_t = torch.log(alpha_t)\n",
    "    alphabar_t = torch.cumsum(log_alpha_t, dim=0).exp()\n",
    "\n",
    "    sqrtab = torch.sqrt(alphabar_t)\n",
    "    oneover_sqrta = 1 / torch.sqrt(alpha_t)\n",
    "\n",
    "    sqrtmab = torch.sqrt(1 - alphabar_t)\n",
    "    mab_over_sqrtmab_inv = (1 - alpha_t) / sqrtmab\n",
    "\n",
    "    return {\n",
    "        \"alpha_t\": alpha_t,  # \\alpha_t\n",
    "        \"oneover_sqrta\": oneover_sqrta,  # 1/\\sqrt{\\alpha_t}\n",
    "        \"sqrt_beta_t\": sqrt_beta_t,  # \\sqrt{\\beta_t}\n",
    "        \"alphabar_t\": alphabar_t,  # \\bar{\\alpha_t}\n",
    "        \"sqrtab\": sqrtab,  # \\sqrt{\\bar{\\alpha_t}}\n",
    "        \"sqrtmab\": sqrtmab,  # \\sqrt{1-\\bar{\\alpha_t}}\n",
    "        \"mab_over_sqrtmab\": mab_over_sqrtmab_inv,  # (1-\\alpha_t)/\\sqrt{1-\\bar{\\alpha_t}}\n",
    "    }\n",
    "\n",
    "\n",
    "blk = lambda ic, oc: nn.Sequential(\n",
    "    nn.Conv2d(ic, oc, 7, padding=3),\n",
    "    nn.BatchNorm2d(oc),\n",
    "    nn.LeakyReLU(),\n",
    ")\n"
   ]
  },
  {
   "cell_type": "code",
   "execution_count": 5,
   "metadata": {},
   "outputs": [],
   "source": [
    "class DummyEpsModel(nn.Module):\n",
    "    \"\"\"\n",
    "    This should be unet-like, but let's don't think about the model too much :P\n",
    "    Basically, any universal R^n -> R^n model should work.\n",
    "    \"\"\"\n",
    "\n",
    "    def __init__(self, n_channel: int) -> None:\n",
    "        super(DummyEpsModel, self).__init__()\n",
    "        self.conv = nn.Sequential(  # with batchnorm\n",
    "            blk(n_channel, 64),\n",
    "            blk(64, 128),\n",
    "            blk(128, 256),\n",
    "            blk(256, 512),\n",
    "            blk(512, 256),\n",
    "            blk(256, 128),\n",
    "            blk(128, 64),\n",
    "            nn.Conv2d(64, n_channel, 3, padding=1),\n",
    "        )\n",
    "\n",
    "    def forward(self, x, t) -> torch.Tensor:\n",
    "        # Lets think about using t later. In the paper, they used Tr-like positional embeddings.\n",
    "        return self.conv(x)\n",
    "\n",
    "\n",
    "class DDPM(nn.Module):\n",
    "    def __init__(\n",
    "        self,\n",
    "        eps_model: nn.Module,\n",
    "        betas: Tuple[float, float],\n",
    "        n_T: int,\n",
    "        criterion: nn.Module = nn.MSELoss(),\n",
    "    ) -> None:\n",
    "        super(DDPM, self).__init__()\n",
    "        self.eps_model = eps_model\n",
    "\n",
    "        # register_buffer allows us to freely access these tensors by name. It helps device placement.\n",
    "        for k, v in ddpm_schedules(betas[0], betas[1], n_T).items():\n",
    "            self.register_buffer(k, v)\n",
    "\n",
    "        self.n_T = n_T\n",
    "        self.criterion = criterion\n",
    "\n",
    "    def forward(self, x: torch.Tensor) -> torch.Tensor:\n",
    "        \"\"\"\n",
    "        Makes forward diffusion x_t, and tries to guess epsilon value from x_t using eps_model.\n",
    "        This implements Algorithm 1 in the paper.\n",
    "        \"\"\"\n",
    "\n",
    "        _ts = torch.randint(1, self.n_T, (x.shape[0],)).to(\n",
    "            x.device\n",
    "        )  # t ~ Uniform(0, n_T)\n",
    "        eps = torch.randn_like(x)  # eps ~ N(0, 1)\n",
    "\n",
    "        x_t = (\n",
    "            self.sqrtab[_ts, None, None, None] * x\n",
    "            + self.sqrtmab[_ts, None, None, None] * eps\n",
    "        )  # This is the x_t, which is sqrt(alphabar) x_0 + sqrt(1-alphabar) * eps\n",
    "        # We should predict the \"error term\" from this x_t. Loss is what we return.\n",
    "\n",
    "        return self.criterion(eps, self.eps_model(x_t, _ts / self.n_T))\n",
    "\n",
    "    def sample(self, n_sample: int, size, device) -> torch.Tensor:\n",
    "\n",
    "        x_i = torch.randn(n_sample, *size).to(device)  # x_T ~ N(0, 1)\n",
    "\n",
    "        # This samples accordingly to Algorithm 2. It is exactly the same logic.\n",
    "        for i in range(self.n_T, 0, -1):\n",
    "            z = torch.randn(n_sample, *size).to(device) if i > 1 else 0\n",
    "            eps = self.eps_model(x_i, i / self.n_T)\n",
    "            x_i = (\n",
    "                self.oneover_sqrta[i] * (x_i - eps * self.mab_over_sqrtmab[i])\n",
    "                + self.sqrt_beta_t[i] * z\n",
    "            )\n",
    "\n",
    "        return x_i\n"
   ]
  },
  {
   "cell_type": "code",
   "execution_count": 8,
   "metadata": {
    "notebookRunGroups": {
     "groupValue": "2"
    }
   },
   "outputs": [],
   "source": [
    "def train_mnist(n_epoch: int = 100, device=\"cuda:0\") -> None:\n",
    "\n",
    "    ddpm = DDPM(eps_model=DummyEpsModel(1), betas=(1e-4, 0.02), n_T=1000)\n",
    "    ddpm.to(device)\n",
    "\n",
    "    tf = transforms.Compose(\n",
    "        [transforms.ToTensor(), transforms.Normalize((0.5,), (1.0))]\n",
    "    )\n",
    "\n",
    "    dataset = MNIST(\n",
    "        \"./data\",\n",
    "        train=True,\n",
    "        download=True,\n",
    "        transform=tf,\n",
    "    )\n",
    "    dataloader = DataLoader(dataset, batch_size=128, shuffle=True, num_workers=20)\n",
    "    optim = torch.optim.Adam(ddpm.parameters(), lr=2e-4)\n",
    "\n",
    "    for i in range(n_epoch):\n",
    "        ddpm.train()\n",
    "\n",
    "        pbar = tqdm(dataloader)\n",
    "        loss_ema = None\n",
    "        for x, _ in pbar:\n",
    "            optim.zero_grad()\n",
    "            x = x.to(device)\n",
    "            loss = ddpm(x)\n",
    "            loss.backward()\n",
    "            if loss_ema is None:\n",
    "                loss_ema = loss.item()\n",
    "            else:\n",
    "                loss_ema = 0.9 * loss_ema + 0.1 * loss.item()\n",
    "            pbar.set_description(f\"loss: {loss_ema:.4f}\")\n",
    "            optim.step()\n",
    "\n",
    "        ddpm.eval()\n",
    "        with torch.no_grad():\n",
    "            xh = ddpm.sample(16, (1, 28, 28), device)\n",
    "            grid = make_grid(xh, nrow=4)\n",
    "            save_image(grid, f\"./contents/ddpm_sample_{i}.png\")\n",
    "\n",
    "            # save model\n",
    "            torch.save(ddpm.state_dict(), f\"./ddpm_mnist.pth\")"
   ]
  },
  {
   "cell_type": "code",
   "execution_count": 9,
   "metadata": {},
   "outputs": [
    {
     "name": "stderr",
     "output_type": "stream",
     "text": [
      "  0%|          | 0/469 [00:00<?, ?it/s]"
     ]
    },
    {
     "name": "stderr",
     "output_type": "stream",
     "text": [
      "loss: 0.0406: 100%|██████████| 469/469 [05:24<00:00,  1.44it/s]\n",
      "loss: 0.0336: 100%|██████████| 469/469 [05:27<00:00,  1.43it/s]\n",
      "loss: 0.0283: 100%|██████████| 469/469 [05:28<00:00,  1.43it/s]\n",
      "loss: 0.0262: 100%|██████████| 469/469 [05:28<00:00,  1.43it/s]\n",
      "loss: 0.0276: 100%|██████████| 469/469 [05:28<00:00,  1.43it/s]\n",
      "loss: 0.0245: 100%|██████████| 469/469 [05:28<00:00,  1.43it/s]\n",
      "loss: 0.0244: 100%|██████████| 469/469 [05:33<00:00,  1.40it/s]\n",
      "loss: 0.0239: 100%|██████████| 469/469 [05:29<00:00,  1.43it/s]\n",
      "loss: 0.0233: 100%|██████████| 469/469 [05:29<00:00,  1.42it/s]\n",
      "loss: 0.0219: 100%|██████████| 469/469 [05:28<00:00,  1.43it/s]\n",
      "loss: 0.0217: 100%|██████████| 469/469 [05:28<00:00,  1.43it/s]\n",
      "loss: 0.0204: 100%|██████████| 469/469 [05:30<00:00,  1.42it/s]\n",
      "loss: 0.0204: 100%|██████████| 469/469 [05:29<00:00,  1.43it/s]\n",
      "loss: 0.0210: 100%|██████████| 469/469 [05:28<00:00,  1.43it/s]\n",
      "loss: 0.0208: 100%|██████████| 469/469 [05:28<00:00,  1.43it/s]\n",
      "loss: 0.0192: 100%|██████████| 469/469 [05:28<00:00,  1.43it/s]\n",
      "loss: 0.0191: 100%|██████████| 469/469 [05:28<00:00,  1.43it/s]\n",
      "loss: 0.0194: 100%|██████████| 469/469 [05:28<00:00,  1.43it/s]\n",
      "loss: 0.0192: 100%|██████████| 469/469 [05:28<00:00,  1.43it/s]\n",
      "loss: 0.0186: 100%|██████████| 469/469 [05:29<00:00,  1.42it/s]\n",
      "loss: 0.0185: 100%|██████████| 469/469 [05:29<00:00,  1.42it/s]\n",
      "loss: 0.0190: 100%|██████████| 469/469 [05:29<00:00,  1.43it/s]\n",
      "loss: 0.0189: 100%|██████████| 469/469 [05:25<00:00,  1.44it/s]\n",
      "loss: 0.0188: 100%|██████████| 469/469 [05:27<00:00,  1.43it/s]\n",
      "loss: 0.0183: 100%|██████████| 469/469 [05:26<00:00,  1.44it/s]\n",
      "loss: 0.0186: 100%|██████████| 469/469 [05:25<00:00,  1.44it/s]\n",
      "loss: 0.0181: 100%|██████████| 469/469 [05:24<00:00,  1.44it/s]\n",
      "loss: 0.0185: 100%|██████████| 469/469 [05:24<00:00,  1.44it/s]\n",
      "loss: 0.0169: 100%|██████████| 469/469 [05:25<00:00,  1.44it/s]\n",
      "loss: 0.0172: 100%|██████████| 469/469 [05:25<00:00,  1.44it/s]\n",
      "loss: 0.0188: 100%|██████████| 469/469 [05:25<00:00,  1.44it/s]\n",
      "loss: 0.0179: 100%|██████████| 469/469 [05:25<00:00,  1.44it/s]\n",
      "loss: 0.0178: 100%|██████████| 469/469 [05:25<00:00,  1.44it/s]\n",
      "loss: 0.0184: 100%|██████████| 469/469 [05:24<00:00,  1.44it/s]\n",
      "loss: 0.0168: 100%|██████████| 469/469 [05:24<00:00,  1.44it/s]\n",
      "loss: 0.0175: 100%|██████████| 469/469 [05:25<00:00,  1.44it/s]\n",
      "loss: 0.0173: 100%|██████████| 469/469 [05:25<00:00,  1.44it/s]\n",
      "loss: 0.0175: 100%|██████████| 469/469 [05:25<00:00,  1.44it/s]\n",
      "loss: 0.0173: 100%|██████████| 469/469 [05:25<00:00,  1.44it/s]\n",
      "loss: 0.0175: 100%|██████████| 469/469 [05:25<00:00,  1.44it/s]\n",
      "loss: 0.0165: 100%|██████████| 469/469 [05:25<00:00,  1.44it/s]\n",
      "loss: 0.0183: 100%|██████████| 469/469 [05:25<00:00,  1.44it/s]\n",
      "loss: 0.0166: 100%|██████████| 469/469 [05:25<00:00,  1.44it/s]\n",
      "loss: 0.0180: 100%|██████████| 469/469 [05:25<00:00,  1.44it/s]\n",
      "loss: 0.0173: 100%|██████████| 469/469 [05:25<00:00,  1.44it/s]\n",
      "loss: 0.0161: 100%|██████████| 469/469 [05:25<00:00,  1.44it/s]\n",
      "loss: 0.0159: 100%|██████████| 469/469 [05:25<00:00,  1.44it/s]\n",
      "loss: 0.0172: 100%|██████████| 469/469 [05:25<00:00,  1.44it/s]\n",
      "loss: 0.0166: 100%|██████████| 469/469 [05:24<00:00,  1.44it/s]\n",
      "loss: 0.0174: 100%|██████████| 469/469 [05:24<00:00,  1.44it/s]\n",
      "loss: 0.0175: 100%|██████████| 469/469 [05:24<00:00,  1.44it/s]\n",
      "loss: 0.0166: 100%|██████████| 469/469 [05:25<00:00,  1.44it/s]\n",
      "loss: 0.0168: 100%|██████████| 469/469 [05:25<00:00,  1.44it/s]\n",
      "loss: 0.0172: 100%|██████████| 469/469 [05:25<00:00,  1.44it/s]\n",
      "loss: 0.0163: 100%|██████████| 469/469 [05:24<00:00,  1.44it/s]\n",
      "loss: 0.0172: 100%|██████████| 469/469 [05:24<00:00,  1.44it/s]\n",
      "loss: 0.0166: 100%|██████████| 469/469 [05:24<00:00,  1.44it/s]\n",
      "loss: 0.0168: 100%|██████████| 469/469 [05:25<00:00,  1.44it/s]\n",
      "loss: 0.0172: 100%|██████████| 469/469 [05:25<00:00,  1.44it/s]\n",
      "loss: 0.0159: 100%|██████████| 469/469 [05:25<00:00,  1.44it/s]\n",
      "loss: 0.0165: 100%|██████████| 469/469 [05:24<00:00,  1.44it/s]\n",
      "loss: 0.0160: 100%|██████████| 469/469 [05:24<00:00,  1.44it/s]\n",
      "loss: 0.0169: 100%|██████████| 469/469 [05:24<00:00,  1.44it/s]\n",
      "loss: 0.0163: 100%|██████████| 469/469 [05:24<00:00,  1.44it/s]\n",
      "loss: 0.0183:  31%|███       | 144/469 [01:40<03:44,  1.45it/s]"
     ]
    }
   ],
   "source": [
    "train_mnist()"
   ]
  },
  {
   "cell_type": "code",
   "execution_count": null,
   "metadata": {},
   "outputs": [],
   "source": []
  },
  {
   "cell_type": "code",
   "execution_count": null,
   "metadata": {},
   "outputs": [],
   "source": []
  },
  {
   "cell_type": "code",
   "execution_count": null,
   "metadata": {},
   "outputs": [],
   "source": []
  },
  {
   "cell_type": "code",
   "execution_count": null,
   "metadata": {},
   "outputs": [],
   "source": []
  },
  {
   "cell_type": "code",
   "execution_count": null,
   "metadata": {},
   "outputs": [],
   "source": []
  },
  {
   "cell_type": "code",
   "execution_count": null,
   "metadata": {},
   "outputs": [],
   "source": []
  },
  {
   "cell_type": "code",
   "execution_count": null,
   "metadata": {},
   "outputs": [],
   "source": []
  },
  {
   "cell_type": "code",
   "execution_count": null,
   "metadata": {},
   "outputs": [],
   "source": []
  },
  {
   "cell_type": "code",
   "execution_count": null,
   "metadata": {},
   "outputs": [],
   "source": []
  },
  {
   "cell_type": "code",
   "execution_count": null,
   "metadata": {},
   "outputs": [],
   "source": []
  },
  {
   "cell_type": "code",
   "execution_count": null,
   "metadata": {},
   "outputs": [],
   "source": []
  },
  {
   "cell_type": "code",
   "execution_count": null,
   "metadata": {},
   "outputs": [],
   "source": []
  },
  {
   "cell_type": "code",
   "execution_count": null,
   "metadata": {},
   "outputs": [],
   "source": []
  },
  {
   "cell_type": "code",
   "execution_count": null,
   "metadata": {},
   "outputs": [],
   "source": []
  },
  {
   "cell_type": "code",
   "execution_count": null,
   "metadata": {},
   "outputs": [],
   "source": []
  },
  {
   "cell_type": "code",
   "execution_count": null,
   "metadata": {},
   "outputs": [],
   "source": []
  },
  {
   "cell_type": "code",
   "execution_count": null,
   "metadata": {},
   "outputs": [],
   "source": []
  },
  {
   "cell_type": "code",
   "execution_count": null,
   "metadata": {},
   "outputs": [],
   "source": []
  },
  {
   "cell_type": "code",
   "execution_count": null,
   "metadata": {},
   "outputs": [],
   "source": []
  },
  {
   "cell_type": "code",
   "execution_count": null,
   "metadata": {},
   "outputs": [],
   "source": []
  },
  {
   "cell_type": "code",
   "execution_count": null,
   "metadata": {},
   "outputs": [],
   "source": []
  },
  {
   "cell_type": "code",
   "execution_count": null,
   "metadata": {},
   "outputs": [],
   "source": []
  },
  {
   "cell_type": "code",
   "execution_count": null,
   "metadata": {},
   "outputs": [],
   "source": []
  }
 ],
 "metadata": {
  "kernelspec": {
   "display_name": "DifMod",
   "language": "python",
   "name": "python3"
  },
  "language_info": {
   "codemirror_mode": {
    "name": "ipython",
    "version": 3
   },
   "file_extension": ".py",
   "mimetype": "text/x-python",
   "name": "python",
   "nbconvert_exporter": "python",
   "pygments_lexer": "ipython3",
   "version": "3.11.4"
  },
  "orig_nbformat": 4
 },
 "nbformat": 4,
 "nbformat_minor": 2
}
